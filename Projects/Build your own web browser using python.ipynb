{
 "cells": [
  {
   "attachments": {},
   "cell_type": "markdown",
   "id": "3c595776-db12-4dad-bab9-730f4f90df75",
   "metadata": {},
   "source": [
    "# **Build your own web browser using python**"
   ]
  },
  {
   "cell_type": "code",
   "execution_count": 1,
   "id": "51f14a47-0749-460b-b5a8-daa15f62b098",
   "metadata": {},
   "outputs": [
    {
     "ename": "SystemExit",
     "evalue": "0",
     "output_type": "error",
     "traceback": [
      "An exception has occurred, use %tb to see the full traceback.\n",
      "\u001b[1;31mSystemExit\u001b[0m\u001b[1;31m:\u001b[0m 0\n"
     ]
    },
    {
     "name": "stderr",
     "output_type": "stream",
     "text": [
      "C:\\Users\\Admin\\AppData\\Roaming\\Python\\Python311\\site-packages\\IPython\\core\\interactiveshell.py:3516: UserWarning: To exit: use 'exit', 'quit', or Ctrl-D.\n",
      "  warn(\"To exit: use 'exit', 'quit', or Ctrl-D.\", stacklevel=1)\n"
     ]
    }
   ],
   "source": [
    "import sys\n",
    "#pip install PyQt\n",
    "from PyQt5.QtCore import QUrl\n",
    "#pip install PyQtWebEngine\n",
    "from PyQt5.QtWebEngineWidgets import QWebEngineView, QWebEnginePage\n",
    "from PyQt5.QtWidgets import QApplication, QLineEdit, QPushButton, QVBoxLayout, QWidget\n",
    "\n",
    "class Browser(QWidget):\n",
    "    def __init__(self):\n",
    "        super().__init__()\n",
    "        self.initUI()\n",
    "    \n",
    "    def initUI(self):\n",
    "        self.setWindowTitle('Sameer')\n",
    "        self.setGeometry(100, 100, 800, 600)\n",
    "        \n",
    "        self.url_field = QLineEdit(self)\n",
    "        self.go_button = QPushButton('Go', self)\n",
    "        self.go_button.clicked.connect(self.navigate_to_url)\n",
    "        \n",
    "        self.view = QWebEngineView(self)\n",
    "        \n",
    "        layout = QVBoxLayout(self)\n",
    "        layout.addWidget(self.url_field)\n",
    "        layout.addWidget(self.go_button)\n",
    "        layout.addWidget(self.view)\n",
    "        \n",
    "        self.show()\n",
    "    \n",
    "    def navigate_to_url(self):\n",
    "        url = self.url_field.text()\n",
    "        if not url.startswith('http'):\n",
    "            url = 'http://' + url\n",
    "        self.view.setUrl(QUrl(url))\n",
    "\n",
    "app = QApplication(sys.argv)\n",
    "browser = Browser()\n",
    "sys.exit(app.exec_())"
   ]
  }
 ],
 "metadata": {
  "kernelspec": {
   "display_name": "Python 3 (ipykernel)",
   "language": "python",
   "name": "python3"
  },
  "language_info": {
   "codemirror_mode": {
    "name": "ipython",
    "version": 3
   },
   "file_extension": ".py",
   "mimetype": "text/x-python",
   "name": "python",
   "nbconvert_exporter": "python",
   "pygments_lexer": "ipython3",
   "version": "3.11.3"
  },
  "widgets": {
   "application/vnd.jupyter.widget-state+json": {
    "state": {},
    "version_major": 2,
    "version_minor": 0
   }
  }
 },
 "nbformat": 4,
 "nbformat_minor": 5
}
