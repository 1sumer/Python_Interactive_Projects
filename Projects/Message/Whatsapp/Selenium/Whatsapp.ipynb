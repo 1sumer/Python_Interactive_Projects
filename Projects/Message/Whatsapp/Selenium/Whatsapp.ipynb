{
 "cells": [
  {
   "cell_type": "markdown",
   "id": "02f73839-166f-434e-b478-6d820c6a7444",
   "metadata": {},
   "source": [
    "# **Whatsapp**"
   ]
  },
  {
   "cell_type": "code",
   "execution_count": 1,
   "metadata": {},
   "outputs": [
    {
     "name": "stderr",
     "output_type": "stream",
     "text": [
      "\n",
      "\n",
      "====== WebDriver manager ======\n",
      "Current google-chrome version is 119.0.6045\n",
      "Get LATEST driver version for 119.0.6045\n"
     ]
    },
    {
     "ename": "ValueError",
     "evalue": "There is no such driver by url https://chromedriver.storage.googleapis.com/LATEST_RELEASE_119.0.6045",
     "output_type": "error",
     "traceback": [
      "\u001b[1;31m---------------------------------------------------------------------------\u001b[0m",
      "\u001b[1;31mValueError\u001b[0m                                Traceback (most recent call last)",
      "\u001b[1;32mc:\\Users\\Admin\\OneDrive\\Documents\\Python\\Workbook\\Message\\Whatsapp\\Selenium\\Whatsapp.ipynb Cell 2\u001b[0m line \u001b[0;36m2\n\u001b[0;32m     <a href='vscode-notebook-cell:/c%3A/Users/Admin/OneDrive/Documents/Python/Workbook/Message/Whatsapp/Selenium/Whatsapp.ipynb#W5sZmlsZQ%3D%3D?line=16'>17</a>\u001b[0m image_path \u001b[39m=\u001b[39m \u001b[39m'\u001b[39m\u001b[39mimage.png\u001b[39m\u001b[39m'\u001b[39m        \u001b[39m# Absolute path to you image\u001b[39;00m\n\u001b[0;32m     <a href='vscode-notebook-cell:/c%3A/Users/Admin/OneDrive/Documents/Python/Workbook/Message/Whatsapp/Selenium/Whatsapp.ipynb#W5sZmlsZQ%3D%3D?line=18'>19</a>\u001b[0m \u001b[39m# Create driver\u001b[39;00m\n\u001b[1;32m---> <a href='vscode-notebook-cell:/c%3A/Users/Admin/OneDrive/Documents/Python/Workbook/Message/Whatsapp/Selenium/Whatsapp.ipynb#W5sZmlsZQ%3D%3D?line=19'>20</a>\u001b[0m driver \u001b[39m=\u001b[39m webdriver\u001b[39m.\u001b[39mChrome(ChromeDriverManager()\u001b[39m.\u001b[39;49minstall())\n\u001b[0;32m     <a href='vscode-notebook-cell:/c%3A/Users/Admin/OneDrive/Documents/Python/Workbook/Message/Whatsapp/Selenium/Whatsapp.ipynb#W5sZmlsZQ%3D%3D?line=21'>22</a>\u001b[0m \u001b[39m# Encode Message Text\u001b[39;00m\n\u001b[0;32m     <a href='vscode-notebook-cell:/c%3A/Users/Admin/OneDrive/Documents/Python/Workbook/Message/Whatsapp/Selenium/Whatsapp.ipynb#W5sZmlsZQ%3D%3D?line=22'>23</a>\u001b[0m \u001b[39mwith\u001b[39;00m \u001b[39mopen\u001b[39m(\u001b[39mr\u001b[39m\u001b[39m'\u001b[39m\u001b[39mC:\u001b[39m\u001b[39m\\\u001b[39m\u001b[39mUsers\u001b[39m\u001b[39m\\\u001b[39m\u001b[39mAdmin\u001b[39m\u001b[39m\\\u001b[39m\u001b[39mOneDrive\u001b[39m\u001b[39m\\\u001b[39m\u001b[39mDocuments\u001b[39m\u001b[39m\\\u001b[39m\u001b[39mPython\u001b[39m\u001b[39m\\\u001b[39m\u001b[39mWorkbook\u001b[39m\u001b[39m\\\u001b[39m\u001b[39mMessage\u001b[39m\u001b[39m\\\u001b[39m\u001b[39mWhatsapp\u001b[39m\u001b[39m\\\u001b[39m\u001b[39mSelenium\u001b[39m\u001b[39m\\\u001b[39m\u001b[39mmessage.txt\u001b[39m\u001b[39m'\u001b[39m, \u001b[39m'\u001b[39m\u001b[39mr\u001b[39m\u001b[39m'\u001b[39m) \u001b[39mas\u001b[39;00m file:\n",
      "File \u001b[1;32mc:\\Users\\Admin\\AppData\\Local\\Programs\\Python\\Python311\\Lib\\site-packages\\webdriver_manager\\chrome.py:34\u001b[0m, in \u001b[0;36mChromeDriverManager.install\u001b[1;34m(self)\u001b[0m\n\u001b[0;32m     32\u001b[0m \u001b[39mdef\u001b[39;00m \u001b[39minstall\u001b[39m(\u001b[39mself\u001b[39m):\n\u001b[0;32m     33\u001b[0m     log(\u001b[39mf\u001b[39m\u001b[39m\"\u001b[39m\u001b[39mCurrent \u001b[39m\u001b[39m{\u001b[39;00m\u001b[39mself\u001b[39m\u001b[39m.\u001b[39mdriver\u001b[39m.\u001b[39mchrome_type\u001b[39m}\u001b[39;00m\u001b[39m version is \u001b[39m\u001b[39m{\u001b[39;00m\u001b[39mself\u001b[39m\u001b[39m.\u001b[39mdriver\u001b[39m.\u001b[39mbrowser_version\u001b[39m}\u001b[39;00m\u001b[39m\"\u001b[39m, first_line\u001b[39m=\u001b[39m\u001b[39mTrue\u001b[39;00m)\n\u001b[1;32m---> 34\u001b[0m     driver_path \u001b[39m=\u001b[39m \u001b[39mself\u001b[39;49m\u001b[39m.\u001b[39;49m_get_driver_path(\u001b[39mself\u001b[39;49m\u001b[39m.\u001b[39;49mdriver)\n\u001b[0;32m     36\u001b[0m     os\u001b[39m.\u001b[39mchmod(driver_path, \u001b[39m0o755\u001b[39m)\n\u001b[0;32m     37\u001b[0m     \u001b[39mreturn\u001b[39;00m driver_path\n",
      "File \u001b[1;32mc:\\Users\\Admin\\AppData\\Local\\Programs\\Python\\Python311\\Lib\\site-packages\\webdriver_manager\\manager.py:23\u001b[0m, in \u001b[0;36mDriverManager._get_driver_path\u001b[1;34m(self, driver)\u001b[0m\n\u001b[0;32m     21\u001b[0m driver_name \u001b[39m=\u001b[39m driver\u001b[39m.\u001b[39mget_name()\n\u001b[0;32m     22\u001b[0m os_type \u001b[39m=\u001b[39m driver\u001b[39m.\u001b[39mget_os_type()\n\u001b[1;32m---> 23\u001b[0m driver_version \u001b[39m=\u001b[39m driver\u001b[39m.\u001b[39;49mget_version()\n\u001b[0;32m     25\u001b[0m binary_path \u001b[39m=\u001b[39m \u001b[39mself\u001b[39m\u001b[39m.\u001b[39mdriver_cache\u001b[39m.\u001b[39mfind_driver(browser_version, driver_name, os_type,\n\u001b[0;32m     26\u001b[0m                                             driver_version)\n\u001b[0;32m     27\u001b[0m \u001b[39mif\u001b[39;00m binary_path:\n",
      "File \u001b[1;32mc:\\Users\\Admin\\AppData\\Local\\Programs\\Python\\Python311\\Lib\\site-packages\\webdriver_manager\\driver.py:41\u001b[0m, in \u001b[0;36mDriver.get_version\u001b[1;34m(self)\u001b[0m\n\u001b[0;32m     39\u001b[0m driver_version \u001b[39m=\u001b[39m \u001b[39mself\u001b[39m\u001b[39m.\u001b[39m_version\n\u001b[0;32m     40\u001b[0m \u001b[39mif\u001b[39;00m driver_version \u001b[39m==\u001b[39m \u001b[39m\"\u001b[39m\u001b[39mlatest\u001b[39m\u001b[39m\"\u001b[39m:\n\u001b[1;32m---> 41\u001b[0m     \u001b[39mreturn\u001b[39;00m \u001b[39mself\u001b[39;49m\u001b[39m.\u001b[39;49mget_latest_release_version()\n\u001b[0;32m     42\u001b[0m \u001b[39mreturn\u001b[39;00m \u001b[39mself\u001b[39m\u001b[39m.\u001b[39m_version\n",
      "File \u001b[1;32mc:\\Users\\Admin\\AppData\\Local\\Programs\\Python\\Python311\\Lib\\site-packages\\webdriver_manager\\driver.py:65\u001b[0m, in \u001b[0;36mChromeDriver.get_latest_release_version\u001b[1;34m(self)\u001b[0m\n\u001b[0;32m     63\u001b[0m log(\u001b[39mf\u001b[39m\u001b[39m\"\u001b[39m\u001b[39mGet LATEST driver version for \u001b[39m\u001b[39m{\u001b[39;00m\u001b[39mself\u001b[39m\u001b[39m.\u001b[39mbrowser_version\u001b[39m}\u001b[39;00m\u001b[39m\"\u001b[39m)\n\u001b[0;32m     64\u001b[0m resp \u001b[39m=\u001b[39m requests\u001b[39m.\u001b[39mget(\u001b[39mf\u001b[39m\u001b[39m\"\u001b[39m\u001b[39m{\u001b[39;00m\u001b[39mself\u001b[39m\u001b[39m.\u001b[39m_latest_release_url\u001b[39m}\u001b[39;00m\u001b[39m_\u001b[39m\u001b[39m{\u001b[39;00m\u001b[39mself\u001b[39m\u001b[39m.\u001b[39mbrowser_version\u001b[39m}\u001b[39;00m\u001b[39m\"\u001b[39m)\n\u001b[1;32m---> 65\u001b[0m validate_response(resp)\n\u001b[0;32m     66\u001b[0m \u001b[39mreturn\u001b[39;00m resp\u001b[39m.\u001b[39mtext\u001b[39m.\u001b[39mrstrip()\n",
      "File \u001b[1;32mc:\\Users\\Admin\\AppData\\Local\\Programs\\Python\\Python311\\Lib\\site-packages\\webdriver_manager\\utils.py:79\u001b[0m, in \u001b[0;36mvalidate_response\u001b[1;34m(resp)\u001b[0m\n\u001b[0;32m     77\u001b[0m \u001b[39mdef\u001b[39;00m \u001b[39mvalidate_response\u001b[39m(resp):\n\u001b[0;32m     78\u001b[0m     \u001b[39mif\u001b[39;00m resp\u001b[39m.\u001b[39mstatus_code \u001b[39m==\u001b[39m \u001b[39m404\u001b[39m:\n\u001b[1;32m---> 79\u001b[0m         \u001b[39mraise\u001b[39;00m \u001b[39mValueError\u001b[39;00m(\u001b[39m\"\u001b[39m\u001b[39mThere is no such driver by url \u001b[39m\u001b[39m{}\u001b[39;00m\u001b[39m\"\u001b[39m\u001b[39m.\u001b[39mformat(resp\u001b[39m.\u001b[39murl))\n\u001b[0;32m     80\u001b[0m     \u001b[39melif\u001b[39;00m resp\u001b[39m.\u001b[39mstatus_code \u001b[39m!=\u001b[39m \u001b[39m200\u001b[39m:\n\u001b[0;32m     81\u001b[0m         \u001b[39mraise\u001b[39;00m \u001b[39mValueError\u001b[39;00m(resp\u001b[39m.\u001b[39mjson())\n",
      "\u001b[1;31mValueError\u001b[0m: There is no such driver by url https://chromedriver.storage.googleapis.com/LATEST_RELEASE_119.0.6045"
     ]
    }
   ],
   "source": [
    "# Packages\n",
    "from selenium import webdriver\n",
    "from selenium.webdriver.chrome.service import Service\n",
    "from webdriver_manager.chrome import ChromeDriverManager\n",
    "from selenium.webdriver.common.action_chains import ActionChains\n",
    "from selenium.webdriver.common.keys import Keys\n",
    "from selenium.webdriver.common.by import By\n",
    "import time\n",
    "from selenium.webdriver.support.ui import WebDriverWait\n",
    "\n",
    "# Config\n",
    "login_time = 30                 # Time for login (in seconds)\n",
    "new_msg_time = 5                # TTime for a new message (in seconds)\n",
    "send_msg_time = 5               # Time for sending a message (in seconds)\n",
    "country_code = 91               # Set your country code\n",
    "action_time = 2                 # Set time for button click action\n",
    "image_path = 'image.png'        # Absolute path to you image\n",
    "\n",
    "# Create driver\n",
    "driver = webdriver.Chrome(ChromeDriverManager().install())\n",
    "\n",
    "# Encode Message Text\n",
    "with open(r'C:\\Users\\Admin\\OneDrive\\Documents\\Python\\Workbook\\Message\\Whatsapp\\Selenium\\message.txt', 'r') as file:\n",
    "    msg = file.read()\n",
    "\n",
    "# Open browser with default link\n",
    "link = 'https://web.whatsapp.com'\n",
    "driver.get(link)\n",
    "time.sleep(login_time)\n",
    "\n",
    "# Loop Through Numbers List\n",
    "with open(r'C:\\Users\\Admin\\OneDrive\\Documents\\Python\\Workbook\\Message\\Whatsapp\\Selenium\\numbers.txt', 'r') as file:\n",
    "    for n in file.readlines():\n",
    "        num = n.rstrip()\n",
    "        link = f'https://web.whatsapp.com/send/?phone={country_code}{num}'\n",
    "        driver.get(link)\n",
    "        time.sleep(new_msg_time)\n",
    "        # Click on button to load the input DOM\n",
    "        if(image_path):\n",
    "            attach_btn = driver.find_element(By.CSS_SELECTOR, '._1OT67')\n",
    "            attach_btn.click()\n",
    "            time.sleep(action_time)\n",
    "            # Find and send image path to input\n",
    "            msg_input = driver.find_elements(By.CSS_SELECTOR, '._2UNQo input')[1]\n",
    "            msg_input.send_keys(image_path)\n",
    "            time.sleep(action_time)\n",
    "        # Start the action chain to write the message\n",
    "        actions = ActionChains(driver)\n",
    "        for line in msg.split('\\n'):\n",
    "            actions.send_keys(line)\n",
    "            # SHIFT + ENTER to create next line\n",
    "            actions.key_down(Keys.SHIFT).send_keys(Keys.ENTER).key_up(Keys.SHIFT)\n",
    "        actions.send_keys(Keys.ENTER)\n",
    "        actions.perform()\n",
    "        time.sleep(send_msg_time)\n",
    "\n",
    "# Quit the driver\n",
    "driver.quit()"
   ]
  },
  {
   "cell_type": "code",
   "execution_count": null,
   "metadata": {},
   "outputs": [],
   "source": []
  },
  {
   "cell_type": "code",
   "execution_count": null,
   "metadata": {},
   "outputs": [],
   "source": [
    "pip install webdriver-manager==3.4.0"
   ]
  },
  {
   "cell_type": "code",
   "execution_count": null,
   "metadata": {},
   "outputs": [],
   "source": [
    "# Packages\n",
    "from selenium import webdriver\n",
    "from selenium.webdriver.chrome.service import Service\n",
    "from webdriver_manager.chrome import ChromeDriverManager\n",
    "from selenium.webdriver.common.action_chains import ActionChains\n",
    "from selenium.webdriver.common.keys import Keys\n",
    "from selenium.webdriver.common.by import By\n",
    "import time\n",
    "from selenium.webdriver.support.ui import WebDriverWait\n",
    "from selenium.webdriver.support import expected_conditions as EC\n",
    "\n",
    "# Config\n",
    "login_time = 30                 # Time for login (in seconds)\n",
    "new_msg_time = 5                # Time for a new message (in seconds)\n",
    "send_msg_time = 5               # Time for sending a message (in seconds)\n",
    "country_code = 91               # Set your country code\n",
    "action_time = 2                 # Set time for button click action\n",
    "#image_path = 'image.png'        # Absolute path to your image\n",
    "\n",
    "# Create driver\n",
    "driver = webdriver.Chrome(ChromeDriverManager().install())\n",
    "\n",
    "# Encode Message Text\n",
    "with open(r'C:\\Users\\Admin\\OneDrive\\Documents\\Python\\Workbook\\Message\\Whatsapp\\Selenium\\message.txt', 'r') as file:\n",
    "    msg = file.read()\n",
    "\n",
    "# Open browser with default link\n",
    "link = 'https://web.whatsapp.com'\n",
    "driver.get(link)\n",
    "WebDriverWait(driver, login_time).until(EC.title_contains(\"WhatsApp\"))\n",
    "\n",
    "# Loop Through Numbers List\n",
    "with open(r'C:\\Users\\Admin\\OneDrive\\Documents\\Python\\Workbook\\Message\\Whatsapp\\Selenium\\numbers.txt', 'r') as file:\n",
    "    for n in file.readlines():\n",
    "        num = n.rstrip()\n",
    "        link = f'https://web.whatsapp.com/send/?phone={country_code}{num}'\n",
    "        driver.get(link)\n",
    "        WebDriverWait(driver, new_msg_time).until(EC.presence_of_element_located((By.CSS_SELECTOR, '._1OT67')))\n",
    "        # Click on button to load the input DOM\n",
    "        attach_btn = driver.find_element(By.CSS_SELECTOR, '._1OT67')\n",
    "        attach_btn.click()\n",
    "        WebDriverWait(driver, action_time).until(EC.presence_of_element_located((By.CSS_SELECTOR, '._2UNQo input')))\n",
    "        # Find and send image path to input\n",
    "        msg_input = driver.find_elements(By.CSS_SELECTOR, '._2UNQo input')[1]\n",
    "        msg_input.send_keys(image_path)\n",
    "        WebDriverWait(driver, action_time).until(EC.presence_of_element_located((By.CSS_SELECTOR, '._2Ujuu')))\n",
    "        # Start the action chain to write the message\n",
    "        actions = ActionChains(driver)\n",
    "        for line in msg.split('\\n'):\n",
    "            actions.send_keys(line)\n",
    "            # SHIFT + ENTER to create the next line\n",
    "            actions.key_down(Keys.SHIFT).send_keys(Keys.ENTER).key_up(Keys.SHIFT)\n",
    "        actions.send_keys(Keys.ENTER)\n",
    "        actions.perform()\n",
    "        WebDriverWait(driver, send_msg_time).until(EC.presence_of_element_located((By.CSS_SELECTOR, '._2Ujuu')))\n",
    "\n",
    "# Quit the driver\n",
    "driver.quit()"
   ]
  }
 ],
 "metadata": {
  "kernelspec": {
   "display_name": "Python 3 (ipykernel)",
   "language": "python",
   "name": "python3"
  },
  "language_info": {
   "codemirror_mode": {
    "name": "ipython",
    "version": 3
   },
   "file_extension": ".py",
   "mimetype": "text/x-python",
   "name": "python",
   "nbconvert_exporter": "python",
   "pygments_lexer": "ipython3",
   "version": "3.11.3"
  },
  "widgets": {
   "application/vnd.jupyter.widget-state+json": {
    "state": {},
    "version_major": 2,
    "version_minor": 0
   }
  }
 },
 "nbformat": 4,
 "nbformat_minor": 5
}
