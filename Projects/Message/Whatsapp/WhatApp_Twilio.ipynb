{
 "cells": [
  {
   "attachments": {},
   "cell_type": "markdown",
   "metadata": {},
   "source": [
    "# **WHATSAPP Message**"
   ]
  },
  {
   "cell_type": "code",
   "execution_count": 1,
   "metadata": {},
   "outputs": [],
   "source": [
    "#pip install twilio\n",
    "# pip install virtualenv"
   ]
  },
  {
   "cell_type": "code",
   "execution_count": 1,
   "metadata": {},
   "outputs": [],
   "source": [
    "contacts = [\n",
    "    {'name': 'Sameer Pasha', 'email': 'sameerpasha658@gmail.com', 'whatsapp': 'whatsapp:+918088989186'},\n",
    "    {'name': 'Sumer Pasha', 'email': 'sumerpasha078@gmail.com', 'whatsapp': 'whatsapp:+919902568254'},\n",
    "    {'name': 'MalkanGowda Patil', 'email': 'mvpatil507@gmail.com', 'whatsapp': 'whatsapp:+917406867143'},\n",
    "    {'name': 'Kiran', 'email': 'loverboy88846@gmail.com', 'whatsapp': 'whatsapp:+918884644529'},\n",
    "    {'name': 'Manjunath', 'email': 'mnshetty54@gmail.com', 'whatsapp': 'whatsapp:+917083798636'},\n",
    "    {'name': 'yogeshwar', 'email': 'rsyvishnu@gmail.com', 'whatsapp': 'whatsapp:+919445814024'},]"
   ]
  },
  {
   "cell_type": "code",
   "execution_count": 2,
   "metadata": {},
   "outputs": [
    {
     "name": "stdout",
     "output_type": "stream",
     "text": [
      "                name                     email                whatsapp\n",
      "0       Sameer Pasha  sameerpasha658@gmail.com  whatsapp:+918088989186\n",
      "1        Sumer Pasha   sumerpasha078@gmail.com  whatsapp:+919902568254\n",
      "2  MalkanGowda Patil      mvpatil507@gmail.com  whatsapp:+917406867143\n",
      "3              Kiran   loverboy88846@gmail.com  whatsapp:+918884644529\n",
      "4          Manjunath      mnshetty54@gmail.com  whatsapp:+917083798636\n",
      "5          yogeshwar       rsyvishnu@gmail.com  whatsapp:+919445814024\n"
     ]
    }
   ],
   "source": [
    "import pandas as pd\n",
    "import csv\n",
    "Whatsapp_no = pd.DataFrame(contacts) \n",
    "Whatsapp_no.to_csv('Whatsapp_no.csv')\n",
    "print(Whatsapp_no)"
   ]
  },
  {
   "cell_type": "code",
   "execution_count": 3,
   "metadata": {},
   "outputs": [
    {
     "data": {
      "text/plain": [
       "0    whatsapp:+918088989186\n",
       "1    whatsapp:+919902568254\n",
       "2    whatsapp:+917406867143\n",
       "3    whatsapp:+918884644529\n",
       "4    whatsapp:+917083798636\n",
       "5    whatsapp:+919445814024\n",
       "Name: whatsapp, dtype: object"
      ]
     },
     "execution_count": 3,
     "metadata": {},
     "output_type": "execute_result"
    }
   ],
   "source": [
    "contact1 = Whatsapp_no['whatsapp']\n",
    "contact1"
   ]
  },
  {
   "cell_type": "code",
   "execution_count": 17,
   "metadata": {},
   "outputs": [],
   "source": [
    "from twilio.rest import Client\n",
    "\n",
    "# WhatsApp configuration\n",
    "whatsapp_sender = 'whatsapp:+14155238886'\n",
    "whatsapp_body = 'Hello welcome to CERTISURED'\n",
    "\n",
    "# Twilio account configuration\n",
    "account_sid = 'AC1e3e9e3e534f7ba3f775c3a529bfed78'\n",
    "auth_token = 'ef909467e7c1e42a019e577326538ad1'\n",
    "twilio_client = Client(account_sid, auth_token)\n",
    "\n",
    "for contact in contact1:\n",
    "    twilio_client.messages.create(body=whatsapp_body, from_=whatsapp_sender, to=contact)"
   ]
  },
  {
   "cell_type": "code",
   "execution_count": 3,
   "metadata": {},
   "outputs": [
    {
     "data": {
      "text/plain": [
       "<Twilio.Api.V2010.MessageInstance account_sid=AC1e3e9e3e534f7ba3f775c3a529bfed78 sid=SM34ee537e3842013ceaa9ac15b3cc2f29>"
      ]
     },
     "execution_count": 3,
     "metadata": {},
     "output_type": "execute_result"
    }
   ],
   "source": [
    "from twilio.rest import Client\n",
    "\n",
    "# WhatsApp configuration\n",
    "whatsapp_sender = 'whatsapp:+14155238886'\n",
    "whatsapp_body = 'Hello welcome to CERTISURED'\n",
    "\n",
    "# Twilio account configuration\n",
    "account_sid = 'AC1e3e9e3e534f7ba3f775c3a529bfed78'\n",
    "auth_token = 'ef909467e7c1e42a019e577326538ad1'\n",
    "twilio_client = Client(account_sid, auth_token)\n",
    "\n",
    "twilio_client.messages.create(body=whatsapp_body, from_=whatsapp_sender, to='whatsapp:+918088989186')"
   ]
  }
 ],
 "metadata": {
  "kernelspec": {
   "display_name": "Python 3 (ipykernel)",
   "language": "python",
   "name": "python3"
  },
  "language_info": {
   "codemirror_mode": {
    "name": "ipython",
    "version": 3
   },
   "file_extension": ".py",
   "mimetype": "text/x-python",
   "name": "python",
   "nbconvert_exporter": "python",
   "pygments_lexer": "ipython3",
   "version": "3.11.3"
  },
  "vscode": {
   "interpreter": {
    "hash": "37d99e6d4983f94fd607d31c1d056b3b7a9bea88684ae051e8fd79233b8b8e0c"
   }
  },
  "widgets": {
   "application/vnd.jupyter.widget-state+json": {
    "state": {},
    "version_major": 2,
    "version_minor": 0
   }
  }
 },
 "nbformat": 4,
 "nbformat_minor": 4
}
