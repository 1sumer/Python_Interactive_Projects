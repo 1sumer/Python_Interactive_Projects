{
 "cells": [
  {
   "attachments": {},
   "cell_type": "markdown",
   "id": "e0eca53f-f0a7-4674-86fd-37eeff8593df",
   "metadata": {
    "tags": []
   },
   "source": [
    "# **Whatsapp And Mail**"
   ]
  },
  {
   "attachments": {},
   "cell_type": "markdown",
   "id": "0a421795-3982-493c-a71d-f9281cc71dbb",
   "metadata": {},
   "source": [
    "**By doing with DataFrame**"
   ]
  },
  {
   "cell_type": "code",
   "execution_count": null,
   "id": "c6f7ab92-7f04-4452-a99a-67b38f11d45e",
   "metadata": {},
   "outputs": [
    {
     "data": {
      "text/plain": [
       "(221, b'Bye')"
      ]
     },
     "execution_count": 3,
     "metadata": {},
     "output_type": "execute_result"
    }
   ],
   "source": [
    "import smtplib\n",
    "from email.mime.text import MIMEText\n",
    "from email.mime.multipart import MIMEMultipart\n",
    "from twilio.rest import Client\n",
    "\n",
    "# List of contacts\n",
    "contacts = [\n",
    "    {'name': 'Sameer Pasha', 'email': 'sameerpasha658@gmail.com', 'whatsapp': 'whatsapp:+918088989186'},\n",
    "    {'name': 'Sumer Pasha', 'email': 'sumerpasha078@gmail.com', 'whatsapp': 'whatsapp:+919902568254'},\n",
    "    {'name': 'MalkanGowda Patil', 'email': 'mvpatil507@gmail.com', 'whatsapp': 'whatsapp:+917406867143'},\n",
    "    {'name': 'Kiran', 'email': 'loverboy88846@gmail.com', 'whatsapp': 'whatsapp:+918884644529'},\n",
    "    {'name': 'Manjunath', 'email': 'mnshetty54@gmail.com', 'whatsapp': 'whatsapp:+917083798636'},\n",
    "    {'name': 'yogeshwar', 'email': 'rsyvishnu@gmail.com', 'whatsapp': 'whatsapp:+919445814024'},\n",
    "    # Add more contacts here\n",
    "]\n",
    "#creat a csv file\n",
    "import pandas as pd\n",
    "import csv\n",
    "Message = pd.DataFrame(contacts) \n",
    "Message.to_csv('Whatsapp_no.csv')\n",
    "#print(Message)\n",
    "\n",
    "#name in Name1\n",
    "name1 = Message['name']\n",
    "#Mail in mail1\n",
    "mail1 = Message['email']\n",
    "# Contact in contact1\n",
    "contact1 = Message['whatsapp']\n",
    "\n",
    "# Email configuration\n",
    "smtp_server = 'smtp-relay.sendinblue.com'\n",
    "smtp_port = 587\n",
    "smtp_username = 'sgtest.analogica@gmail.com'\n",
    "smtp_password = 'Vgfs5k42FHdzUh3O'\n",
    "# Connect to the SMTP server\n",
    "smtp_connection = smtplib.SMTP(smtp_server, smtp_port)\n",
    "smtp_connection.starttls()\n",
    "smtp_connection.login(smtp_username, smtp_password)\n",
    "\n",
    "\n",
    "# Twilio account configuration\n",
    "account_sid = 'AC1e3e9e3e534f7ba3f775c3a529bfed78'\n",
    "auth_token = 'ef909467e7c1e42a019e577326538ad1'\n",
    "twilio_client = Client(account_sid, auth_token)\n",
    "\n",
    "# Sender\n",
    "email_sender = 'sgtest.analogica@gmail.com'\n",
    "whatsapp_sender = 'whatsapp:+14155238886'\n",
    "\n",
    "\n",
    "email_subject = 'I love cetisured'\n",
    "for name in name1:\n",
    "    email_body = f'Hello {name}, this is From Certisured'\n",
    "    whatsapp_body = f'Hello {name}, this is From Certisured'\n",
    "\n",
    "# Iterate over the list of contacts\n",
    "for mail in mail1:\n",
    "    # Create the email message\n",
    "    msg = MIMEMultipart()\n",
    "    msg['From'] = email_sender\n",
    "    msg['To'] = mail\n",
    "    msg['Subject'] = email_subject\n",
    "    msg.attach(MIMEText(email_body, 'plain'))\n",
    "\n",
    "    # Send the email\n",
    "    smtp_connection.sendmail(smtp_username, mail, msg.as_string())\n",
    "\n",
    "for contact in contact1:\n",
    "    # Send the WhatsApp message\n",
    "    twilio_client.messages.create(body=whatsapp_body, from_=whatsapp_sender, to=contact)\n",
    "\n",
    "# Close the SMTP connection             \n",
    "smtp_connection.quit()\n"
   ]
  }
 ],
 "metadata": {
  "kernelspec": {
   "display_name": "Python 3 (ipykernel)",
   "language": "python",
   "name": "python3"
  },
  "language_info": {
   "codemirror_mode": {
    "name": "ipython",
    "version": 3
   },
   "file_extension": ".py",
   "mimetype": "text/x-python",
   "name": "python",
   "nbconvert_exporter": "python",
   "pygments_lexer": "ipython3",
   "version": "3.9.12"
  },
  "widgets": {
   "application/vnd.jupyter.widget-state+json": {
    "state": {},
    "version_major": 2,
    "version_minor": 0
   }
  }
 },
 "nbformat": 4,
 "nbformat_minor": 5
}
