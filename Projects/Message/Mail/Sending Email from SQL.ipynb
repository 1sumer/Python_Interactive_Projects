{
 "cells": [
  {
   "attachments": {},
   "cell_type": "markdown",
   "id": "ccdbd721-487f-469b-a067-1507a770f48c",
   "metadata": {},
   "source": [
    "### **Sending Email Using SQL**"
   ]
  },
  {
   "cell_type": "code",
   "execution_count": 2,
   "id": "2d28b7f9-d053-4854-9edf-f2266063e4c9",
   "metadata": {},
   "outputs": [],
   "source": [
    "import mysql.connector\n",
    "from email.mime.text import MIMEText\n",
    "from email.mime.multipart import MIMEMultipart\n",
    "import smtplib\n",
    "\n",
    "# Connect to the MySQL database\n",
    "db = mysql.connector.connect(\n",
    "  host=\"localhost\",\n",
    "  user=\"root\",\n",
    "  password=\"Sameer@786\",\n",
    "  database=\"email\"\n",
    ")\n",
    "cursor = db.cursor()\n",
    "\n",
    "# Retrieve user data\n",
    "query = \"SELECT * FROM email\"\n",
    "cursor.execute(query)\n",
    "result = cursor.fetchall()\n",
    "result"
   ]
  },
  {
   "cell_type": "code",
   "execution_count": 6,
   "id": "b6d84b08-6301-4cae-bb62-5a318139c7a7",
   "metadata": {},
   "outputs": [
    {
     "name": "stderr",
     "output_type": "stream",
     "text": [
      "c:\\Users\\syed mubarak pasha\\anaconda3\\lib\\site-packages\\pandas\\io\\sql.py:761: UserWarning: pandas only support SQLAlchemy connectable(engine/connection) ordatabase string URI or sqlite3 DBAPI2 connectionother DBAPI2 objects are not tested, please consider using SQLAlchemy\n",
      "  warnings.warn(\n"
     ]
    },
    {
     "data": {
      "text/html": [
       "<div>\n",
       "<style scoped>\n",
       "    .dataframe tbody tr th:only-of-type {\n",
       "        vertical-align: middle;\n",
       "    }\n",
       "\n",
       "    .dataframe tbody tr th {\n",
       "        vertical-align: top;\n",
       "    }\n",
       "\n",
       "    .dataframe thead th {\n",
       "        text-align: right;\n",
       "    }\n",
       "</style>\n",
       "<table border=\"1\" class=\"dataframe\">\n",
       "  <thead>\n",
       "    <tr style=\"text-align: right;\">\n",
       "      <th></th>\n",
       "      <th>id</th>\n",
       "      <th>name</th>\n",
       "      <th>email</th>\n",
       "      <th>whatsapp</th>\n",
       "    </tr>\n",
       "  </thead>\n",
       "  <tbody>\n",
       "    <tr>\n",
       "      <th>0</th>\n",
       "      <td>1</td>\n",
       "      <td>Sameer Pasha</td>\n",
       "      <td>sameerpasha658@gmail.com</td>\n",
       "      <td>+918088989186</td>\n",
       "    </tr>\n",
       "    <tr>\n",
       "      <th>1</th>\n",
       "      <td>2</td>\n",
       "      <td>Sumer Pasha</td>\n",
       "      <td>sumerpasha078@gmail.com</td>\n",
       "      <td>+919902568254</td>\n",
       "    </tr>\n",
       "    <tr>\n",
       "      <th>2</th>\n",
       "      <td>3</td>\n",
       "      <td>MalkanGowda Patil</td>\n",
       "      <td>mvpatil507@gmail.com</td>\n",
       "      <td>+917406867143</td>\n",
       "    </tr>\n",
       "    <tr>\n",
       "      <th>3</th>\n",
       "      <td>4</td>\n",
       "      <td>Kiran</td>\n",
       "      <td>loverboy88846@gmail.com</td>\n",
       "      <td>+918884644529</td>\n",
       "    </tr>\n",
       "    <tr>\n",
       "      <th>4</th>\n",
       "      <td>5</td>\n",
       "      <td>Manjunath</td>\n",
       "      <td>mnshetty54@gmail.com</td>\n",
       "      <td>+917083798636</td>\n",
       "    </tr>\n",
       "    <tr>\n",
       "      <th>5</th>\n",
       "      <td>6</td>\n",
       "      <td>yogeshwar</td>\n",
       "      <td>rsyvishnu@gmail.com</td>\n",
       "      <td>+919445814024</td>\n",
       "    </tr>\n",
       "  </tbody>\n",
       "</table>\n",
       "</div>"
      ],
      "text/plain": [
       "   id               name                     email       whatsapp\n",
       "0   1       Sameer Pasha  sameerpasha658@gmail.com  +918088989186\n",
       "1   2        Sumer Pasha   sumerpasha078@gmail.com  +919902568254\n",
       "2   3  MalkanGowda Patil      mvpatil507@gmail.com  +917406867143\n",
       "3   4              Kiran   loverboy88846@gmail.com  +918884644529\n",
       "4   5          Manjunath      mnshetty54@gmail.com  +917083798636\n",
       "5   6          yogeshwar       rsyvishnu@gmail.com  +919445814024"
      ]
     },
     "execution_count": 6,
     "metadata": {},
     "output_type": "execute_result"
    }
   ],
   "source": [
    "import pandas as pd \n",
    "df = pd.read_sql(query, con=db)\n",
    "df"
   ]
  },
  {
   "attachments": {},
   "cell_type": "markdown",
   "id": "ecef8fe0-3b61-4b74-8a5e-f847f657388b",
   "metadata": {},
   "source": [
    "**Email**"
   ]
  },
  {
   "cell_type": "code",
   "execution_count": 3,
   "id": "82e6d14b-75c2-4035-9f87-31c666cc38e4",
   "metadata": {
    "tags": []
   },
   "outputs": [],
   "source": [
    "# Send email to each user\n",
    "for row in result:\n",
    "    name = row[1]\n",
    "    email = row[2]\n",
    "    message = MIMEMultipart()\n",
    "    message['From'] = 'sgtest.analogica@gmail.com'\n",
    "    message['To'] = email\n",
    "    message['Subject'] = 'Welcome to Certisured'\n",
    "\n",
    "    body = f'Hello {name}, this is From Certisured'\n",
    "    message.attach(MIMEText(body, 'plain'))\n",
    "\n",
    "    server = smtplib.SMTP('smtp-relay.sendinblue.com', 587)\n",
    "    server.starttls()\n",
    "    server.login('sgtest.analogica@gmail.com', 'Vgfs5k42FHdzUh3O')\n",
    "    server.sendmail('sgtest.analogica@gmail.com', email, message.as_string())\n",
    "    server.quit()"
   ]
  }
 ],
 "metadata": {
  "kernelspec": {
   "display_name": "Python 3 (ipykernel)",
   "language": "python",
   "name": "python3"
  },
  "language_info": {
   "codemirror_mode": {
    "name": "ipython",
    "version": 3
   },
   "file_extension": ".py",
   "mimetype": "text/x-python",
   "name": "python",
   "nbconvert_exporter": "python",
   "pygments_lexer": "ipython3",
   "version": "3.9.12"
  },
  "widgets": {
   "application/vnd.jupyter.widget-state+json": {
    "state": {},
    "version_major": 2,
    "version_minor": 0
   }
  }
 },
 "nbformat": 4,
 "nbformat_minor": 5
}
