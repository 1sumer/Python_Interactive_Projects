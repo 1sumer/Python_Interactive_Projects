{
 "cells": [
  {
   "cell_type": "markdown",
   "id": "61b9d260",
   "metadata": {},
   "source": [
    "### **ﷺ**"
   ]
  },
  {
   "attachments": {},
   "cell_type": "markdown",
   "id": "4c255522",
   "metadata": {},
   "source": [
    "**TURTLE**"
   ]
  },
  {
   "cell_type": "code",
   "execution_count": null,
   "id": "e0d2c46f",
   "metadata": {},
   "outputs": [],
   "source": [
    "import turtle as t\n",
    "pen=t.Turtle()\n",
    "t.bgcolor('#9966cc')\n",
    "t.delay(8)\n",
    "pen.color('#ffe4e1')\n",
    "pen.begin_fill()\n",
    "pen.left(40)\n",
    "pen.forward(120)\n",
    "pen.circle(80,190)\n",
    "pen.right(100)\n",
    "pen.circle(80,180)\n",
    "pen.forward(160)\n",
    "pen.left(90)\n",
    "pen.forward(50)\n",
    "pen.setpos(-60,100)\n",
    "pen.end_fill()\n",
    "def txt():\n",
    "    pen.up()\n",
    "    pen.setpos(-60,100)\n",
    "    pen.color('green')\n",
    "    pen.write('I LOVE SAMEER',font=(\"comic sans MS\",16))\n",
    "    txt()\n",
    "    pen.end_fill()\n",
    "    t.exitonclick()"
   ]
  },
  {
   "attachments": {},
   "cell_type": "markdown",
   "id": "854da92b",
   "metadata": {},
   "source": [
    "**CRISMAS TREE**"
   ]
  },
  {
   "cell_type": "code",
   "execution_count": 1,
   "id": "1bd0f67d",
   "metadata": {},
   "outputs": [],
   "source": [
    "import turtle\n",
    "t = turtle.Turtle()\n",
    "t.screen.bgcolor('black')\n",
    "t.pensize(2)\n",
    "t.color('green')\n",
    "t.left(90)\n",
    "t.backward(100)\n",
    "t.speed(200)\n",
    "t.shape('turtle')\n",
    "def tree(i):\n",
    "    if i<10:\n",
    "        return\n",
    "    else:\n",
    "        t.forward(i)\n",
    "        t.color('orange')\n",
    "        t.circle(2)\n",
    "        t.color('brown')\n",
    "        t.left(30)\n",
    "        tree(3*i/4)\n",
    "        t.right(60)\n",
    "        tree(3*i/4)\n",
    "        t.left(30)\n",
    "        t.backward(i)\n",
    "tree(100)\n",
    "turtle.done()"
   ]
  },
  {
   "attachments": {},
   "cell_type": "markdown",
   "id": "96c26c44",
   "metadata": {},
   "source": [
    "**APJ, FLAG,IRONMAN**"
   ]
  },
  {
   "cell_type": "code",
   "execution_count": null,
   "id": "3cd65f7c",
   "metadata": {},
   "outputs": [],
   "source": [
    "pip install sketchpy"
   ]
  },
  {
   "cell_type": "code",
   "execution_count": null,
   "id": "ec92df6b",
   "metadata": {},
   "outputs": [],
   "source": [
    "#pip install sketchpy\n",
    "from sketchpy import library as lib\n",
    "obj = lib.rdj()#flag\",\n",
    "obj.draw()"
   ]
  },
  {
   "cell_type": "code",
   "execution_count": null,
   "id": "8b3f74d4",
   "metadata": {
    "scrolled": true
   },
   "outputs": [],
   "source": [
    "from sketchpy import library\n",
    "myObject = library.apj()\n",
    "myObject.draw()"
   ]
  },
  {
   "attachments": {},
   "cell_type": "markdown",
   "id": "f3172e61",
   "metadata": {},
   "source": [
    "**APPLE LOGO**"
   ]
  },
  {
   "cell_type": "code",
   "execution_count": null,
   "id": "e62d6911",
   "metadata": {},
   "outputs": [],
   "source": [
    "from turtle import *\n",
    "width(10)\n",
    "begin_fill()\n",
    "left(160)\n",
    "circle(100,100)\n",
    "circle(200,60)\n",
    "circle(40,90)\n",
    "circle(-40,100)\n",
    "circle(40,100)\n",
    "circle(200,30)\n",
    "left(90)\n",
    "circle(-70,150)\n",
    "left(120)\n",
    "circle(160,55)\n",
    "end_fill()\n",
    "right(110)\n",
    "up()\n",
    "forward(25)\n",
    "down()\n",
    "begin_fill()\n",
    "circle(-110,90)\n",
    "right(90)\n",
    "circle(-110,90)\n",
    "end_fill()"
   ]
  },
  {
   "attachments": {},
   "cell_type": "markdown",
   "id": "f256333f",
   "metadata": {},
   "source": [
    "**EMOJIS**"
   ]
  },
  {
   "cell_type": "code",
   "execution_count": null,
   "id": "59d6c82c",
   "metadata": {},
   "outputs": [],
   "source": [
    "print(\"\\U0001F600\")\n",
    "print(\"\\U0001F917\")\n",
    "print(\"\\U0001F62A\")\n",
    "print(\"\\U0001F637\")\n",
    "print(\"\\U0001F62B\")"
   ]
  },
  {
   "cell_type": "markdown",
   "id": "94f6526a",
   "metadata": {},
   "source": [
    "#### **Colour**"
   ]
  },
  {
   "cell_type": "code",
   "execution_count": null,
   "id": "b4965027",
   "metadata": {},
   "outputs": [
    {
     "name": "stdout",
     "output_type": "stream",
     "text": [
      "\u001b[94m\u001b[93mPython 3!\n"
     ]
    }
   ],
   "source": [
    "class color:\n",
    "    PURPLE = '\\033[95m'\n",
    "    CYAN = '\\033[96m'\n",
    "    DARKCYAN = '\\033[36m'\n",
    "    BLUE = '\\033[94m'#,32m,34m,36m\n",
    "    GREEN = '\\033[92m'\n",
    "    YELLOW = '\\033[93m'#,33m\n",
    "    RED = '\\033[91m'#,31m\n",
    "    BOLD = '\\033[1m'#5m\n",
    "    UNDERLINE = '\\033[4m'\n",
    "    END = '\\033[0m'\n",
    "    BACKGROUND = '\\033[100m'#,40m,R41M,G42m,y43m,B44m,P45m,B46m,L47m,B100m,R101....107m\n",
    "    LIGHT_BLACK = '\\033[30m'#,37m,90m,97m\n",
    "    PINK ='\\033[35m'\n",
    "print(color.BLUE + color.YELLOW + 'Python 3!')"
   ]
  },
  {
   "cell_type": "code",
   "execution_count": null,
   "id": "3ade4742",
   "metadata": {},
   "outputs": [],
   "source": [
    "#import pyautogui as auto\n",
    "#import time\n",
    "#while True:\n",
    "    #auto.write(\"you are online sameer?\")\n",
    "    #auto.press(\"enter\")\n",
    "    #time.sleep(1)"
   ]
  },
  {
   "attachments": {},
   "cell_type": "markdown",
   "id": "f97eca2a",
   "metadata": {},
   "source": [
    "**HEART**"
   ]
  },
  {
   "cell_type": "code",
   "execution_count": null,
   "id": "875e611b",
   "metadata": {},
   "outputs": [],
   "source": [
    "import math\n",
    "import turtle\n",
    "\n",
    "def xt(t):\n",
    "    return 16*math.sin(t)**3\n",
    "\n",
    "def yt(t):\n",
    "    return 16*math.cos(t)-5*\\\n",
    "math.cos(2*t)-2*\\\n",
    "math.cos(3*t)-\\\n",
    "math.cos(4*t)\n",
    "\n",
    "t= turtle.Turtle()\n",
    "t.speed(500)\n",
    "turtle.bgcolor('black')\n",
    "\n",
    "for i in range(2550):\n",
    "    t.goto((xt(i)*20, yt(i)*20))\n",
    "    t.pencolor('red')\n",
    "    t.goto(0,0)"
   ]
  },
  {
   "attachments": {},
   "cell_type": "markdown",
   "id": "f76c4086",
   "metadata": {},
   "source": [
    "**FLOWER**"
   ]
  },
  {
   "cell_type": "code",
   "execution_count": null,
   "id": "aa8b039c",
   "metadata": {},
   "outputs": [],
   "source": [
    "import turtle as tur\n",
    "import colorsys as cs\n",
    "\n",
    "tur.setup(700,700)\n",
    "tur.speed(0)\n",
    "tur.tracer(10)\n",
    "tur.width(2)\n",
    "tur.bgcolor(\"green\")\n",
    "\n",
    "for j in range(25):\n",
    "    for i in range(15):\n",
    "        tur.color(cs.hsv_to_rgb(i/15, j/25,1))\n",
    "        tur.right(90)\n",
    "        tur.circle(200-j*4,90)\n",
    "        tur.left(90)\n",
    "        tur.circle(200-j*4,90)\n",
    "        tur.right(100)\n",
    "        tur.circle(50,24)\n",
    "        \n",
    "tur.hideturtle()\n",
    "tur.done()"
   ]
  },
  {
   "cell_type": "code",
   "execution_count": null,
   "id": "2a9d192a",
   "metadata": {},
   "outputs": [],
   "source": []
  },
  {
   "cell_type": "code",
   "execution_count": null,
   "id": "5a678c10",
   "metadata": {},
   "outputs": [],
   "source": [
    "import time\n",
    "from random import randint\n",
    "\n",
    "for i in range(1,85):\n",
    "    print('')\n",
    "space = ''\n",
    "\n",
    "for i in range(1,1000):\n",
    "    count = randint(1,100)\n",
    "    while(count > 0):\n",
    "        space += ''\n",
    "        count-= 1\n",
    "        \n",
    "    if (i%10==0):\n",
    "        print(space + 'HAPPY NEW YEAR 2023🎉')\n",
    "    elif(i%9 == 0):\n",
    "        print(space + \"🎁\")\n",
    "    elif(i%5 == 0):\n",
    "        print(space + \"🎈\")\n",
    "    elif(i%8 == 0):\n",
    "        print(space + \"🎈\")\n",
    "    elif(i%7 == 0):\n",
    "        print(space + \"🧨\")\n",
    "    elif(i%6 == 0):\n",
    "        print(space + \"🎊\")\n",
    "    else:\n",
    "        print(space + \" 🥯\")\n",
    "    space = ''\n",
    "    time.sleep(0.2)\n",
    "    "
   ]
  },
  {
   "cell_type": "code",
   "execution_count": null,
   "id": "31fc2433",
   "metadata": {},
   "outputs": [],
   "source": [
    "from turtle import *\n",
    "from random import randint\n",
    "\n",
    "bgcolor('black')\n",
    "x =1\n",
    "speed(100)\n",
    "\n",
    "while x < 200:\n",
    "    r = randint(0,255)\n",
    "    g = randint(0,255)\n",
    "    b = randint(0,255) \n",
    "    \n",
    "    colormode(255)\n",
    "    pencolor(g,r,b)\n",
    "    fd(20 + x)"
   ]
  },
  {
   "cell_type": "code",
   "execution_count": null,
   "id": "b94546db",
   "metadata": {},
   "outputs": [],
   "source": [
    "from turtle import *\n",
    "import turtle as t \n",
    "\n",
    "def my_turtle():\n",
    "    sides = str(3)\n",
    "    loops = str(450)\n",
    "    pen = 1\n",
    "    \n",
    "    for i in range (int(loops)):\n",
    "        forward(i*2/int(sides) + i)\n",
    "        left(360/int(sides) + .350)\n",
    "        hideturtle() \n",
    "        pensize(pen) \n",
    "        speed(30) \n",
    "        left(90)\n",
    "        \n",
    "my_turtle()\n",
    "t.done() "
   ]
  },
  {
   "cell_type": "markdown",
   "id": "9ff631a1",
   "metadata": {},
   "source": [
    "# **To convert .py to .exe** \n",
    "#pip install pyinstaller\n",
    "\n",
    "#pip show pyinstaller\n",
    "\n",
    "#where pyinstaller\n",
    "\n",
    "#pyinstaller --onefile \"C:\\Users\\syed mubarak pasha\\OneDrive\\Documents\\Certisured\\certisured 0.1.py\"\n",
    "\n",
    "Every import should be insalled in the python\n",
    "\n",
    "\n",
    "# **This another way of converting .py to .exe**\n",
    "\n",
    "pyi-makespec --onefile \"C:\\Users\\Admin\\OneDrive\\Documents\\App Enquiry\\app.py\"\n",
    "\n",
    "for image binaries=[('path/to/new_icon.ico', 'new_icon.ico')],\n",
    "\n",
    "update the .spec (datas=[('C:\\\\Users\\\\Admin\\\\OneDrive\\\\Documents\\\\App Enquiry\\\\templates', 'templates')],)\n",
    "\n",
    "pyinstaller \"C:\\Users\\Admin\\OneDrive\\Desktop\\app.spec\""
   ]
  },
  {
   "cell_type": "markdown",
   "id": "91fda142",
   "metadata": {},
   "source": [
    "# **adding image to exe file**\n",
    "\n",
    "-*- mode: python ; coding: utf-8 -*-\n",
    "\n",
    "block_cipher = None\n",
    "\n",
    "a = Analysis(\n",
    "\n",
    "    ['C:\\\\Users\\\\Admin\\\\OneDrive\\\\Documents\\\\App Enquiry\\\\app.py'],\n",
    "    pathex=[],\n",
    "    binaries=[(r\"C:\\Users\\Admin\\OneDrive\\Documents\\App Enquiry\\Sameer.ico\", 'Sameer.ico')],\n",
    "    datas=[('C:\\\\Users\\\\Admin\\\\OneDrive\\\\Documents\\\\App Enquiry\\\\templates', 'templates')],\n",
    "    hiddenimports=[],\n",
    "    hookspath=[],\n",
    "    hooksconfig={},\n",
    "    runtime_hooks=[],\n",
    "    excludes=[],\n",
    "    win_no_prefer_redirects=False,\n",
    "    win_private_assemblies=False,\n",
    "    cipher=block_cipher,\n",
    "    noarchive=False,\n",
    ")\n",
    "\n",
    "pyz = PYZ(a.pure, a.zipped_data, cipher=block_cipher)\n",
    "\n",
    "exe = EXE(\n",
    "    \n",
    "    pyz,\n",
    "    a.scripts,\n",
    "    a.binaries,\n",
    "    a.zipfiles,\n",
    "    a.datas,\n",
    "    [],\n",
    "    name='app',\n",
    "    debug=False,\n",
    "    bootloader_ignore_signals=False,\n",
    "    strip=False,\n",
    "    upx=True,\n",
    "    upx_exclude=[],\n",
    "    runtime_tmpdir=None,\n",
    "    console=True,\n",
    "    disable_windowed_traceback=False,\n",
    "    argv_emulation=False,\n",
    "    target_arch=None,\n",
    "    codesign_identity=None,\n",
    "    entitlements_file=None,\n",
    "    icon='Sameer.ico',\n",
    ")\n"
   ]
  }
 ],
 "metadata": {
  "kernelspec": {
   "display_name": "Python 3",
   "language": "python",
   "name": "python3"
  },
  "language_info": {
   "codemirror_mode": {
    "name": "ipython",
    "version": 3
   },
   "file_extension": ".py",
   "mimetype": "text/x-python",
   "name": "python",
   "nbconvert_exporter": "python",
   "pygments_lexer": "ipython3",
   "version": "3.13.0"
  },
  "widgets": {
   "application/vnd.jupyter.widget-state+json": {
    "state": {},
    "version_major": 2,
    "version_minor": 0
   }
  }
 },
 "nbformat": 4,
 "nbformat_minor": 5
}
