{
 "cells": [
  {
   "cell_type": "markdown",
   "id": "e6dcf24f",
   "metadata": {},
   "source": [
    "# **STOP WATCH**"
   ]
  },
  {
   "cell_type": "code",
   "execution_count": 8,
   "id": "0e849c6a",
   "metadata": {},
   "outputs": [],
   "source": [
    "# Python program to illustrate a stop watch\n",
    "# using Tkinter\n",
    "#importing the required libraries\n",
    "import tkinter as Tkinter\n",
    "from datetime import datetime\n",
    "counter = 66600\n",
    "running = False\n",
    "def counter_label(label):\n",
    "    def count():\n",
    "        if running:\n",
    "            global counter\n",
    "   \n",
    "            # To manage the initial delay.\n",
    "            if counter==66600:            \n",
    "                display=\"Starting...\"\n",
    "            else:\n",
    "                tt = datetime.fromtimestamp(counter)\n",
    "                string = tt.strftime(\"%H:%M:%S\")\n",
    "                display=string\n",
    "   \n",
    "            label['text']=display   # Or label.config(text=display)\n",
    "   \n",
    "            # label.after(arg1, arg2) delays by \n",
    "            # first argument given in milliseconds\n",
    "            # and then calls the function given as second argument.\n",
    "            # Generally like here we need to call the \n",
    "            # function in which it is present repeatedly.\n",
    "            # Delays by 1000ms=1 seconds and call count again.\n",
    "            label.after(1000, count) \n",
    "            counter += 1\n",
    "   \n",
    "    # Triggering the start of the counter.\n",
    "    count()     \n",
    "   \n",
    "    # start function of the stopwatch\n",
    "def Start(label):\n",
    "    global running\n",
    "    running=True\n",
    "    counter_label(label)\n",
    "    start['state']='disabled'\n",
    "    stop['state']='normal'\n",
    "    reset['state']='normal'\n",
    "   \n",
    "    # Stop function of the stopwatch\n",
    "def Stop():\n",
    "    global running\n",
    "    start['state']='normal'\n",
    "    stop['state']='disabled'\n",
    "    reset['state']='normal'\n",
    "    running = False\n",
    "   \n",
    "    # Reset function of the stopwatch\n",
    "def Reset(label):\n",
    "    global counter\n",
    "    counter=66600\n",
    "   \n",
    "    # If rest is pressed after pressing stop.\n",
    "    if running==False:      \n",
    "        reset['state']='disabled'\n",
    "        label['text']='Welcome!'\n",
    "   \n",
    "    # If reset is pressed while the stopwatch is running.\n",
    "    else:               \n",
    "        label['text']='Starting...'\n",
    "   \n",
    "root = Tkinter.Tk()\n",
    "root.title(\"Stopwatch\")\n",
    "   \n",
    "# Fixing the window size.\n",
    "root.minsize(width=600, height=400)\n",
    "label = Tkinter.Label(root, text=\"Welcome!\", fg=\"black\", font=\"Verdana 30 bold\")\n",
    "label.pack()\n",
    "f = Tkinter.Frame(root)\n",
    "start = Tkinter.Button(f, text='Start', width=10, command=lambda:Start(label))\n",
    "stop = Tkinter.Button(f, text='Stop',width=10,state='disabled', command=Stop)\n",
    "reset = Tkinter.Button(f, text='Reset',width=10, state='disabled', command=lambda:Reset(label))\n",
    "f.pack(anchor = 'center',pady=5)\n",
    "start.pack(side=\"left\")\n",
    "stop.pack(side =\"left\")\n",
    "reset.pack(side=\"left\")\n",
    "root.mainloop()"
   ]
  },
  {
   "cell_type": "code",
   "execution_count": null,
   "id": "26241763-280a-4e79-bce8-deadd40bf694",
   "metadata": {},
   "outputs": [],
   "source": []
  },
  {
   "cell_type": "code",
   "execution_count": 2,
   "id": "0af24d0d-aa78-4298-9756-ecc47fbf8457",
   "metadata": {},
   "outputs": [],
   "source": [
    "from tkinter import *\n",
    "from tkinter.ttk import *\n",
    " \n",
    "from time import strftime\n",
    " \n",
    "root = Tk()\n",
    "root.title(\"Clock\")\n",
    " \n",
    "def time():\n",
    "    string = strftime('%H:%M:%S %p')\n",
    "    label.config(text=string)\n",
    "    label.after(1000, time)\n",
    " \n",
    "label = Label(root, font=(\"ds-digital\", 150), background = \"black\", foreground = \"green\")\n",
    "label.pack(anchor='center')\n",
    "time()\n",
    " \n",
    "mainloop()"
   ]
  }
 ],
 "metadata": {
  "kernelspec": {
   "display_name": "Python 3 (ipykernel)",
   "language": "python",
   "name": "python3"
  },
  "language_info": {
   "codemirror_mode": {
    "name": "ipython",
    "version": 3
   },
   "file_extension": ".py",
   "mimetype": "text/x-python",
   "name": "python",
   "nbconvert_exporter": "python",
   "pygments_lexer": "ipython3",
   "version": "3.9.12"
  },
  "vscode": {
   "interpreter": {
    "hash": "37d99e6d4983f94fd607d31c1d056b3b7a9bea88684ae051e8fd79233b8b8e0c"
   }
  },
  "widgets": {
   "application/vnd.jupyter.widget-state+json": {
    "state": {},
    "version_major": 2,
    "version_minor": 0
   }
  }
 },
 "nbformat": 4,
 "nbformat_minor": 5
}
