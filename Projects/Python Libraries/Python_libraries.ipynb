{
 "cells": [
  {
   "cell_type": "markdown",
   "metadata": {},
   "source": [
    "**Mathmatical function**"
   ]
  },
  {
   "cell_type": "code",
   "execution_count": 1,
   "metadata": {},
   "outputs": [],
   "source": [
    "import warnings\n",
    "warnings.filterwarnings(\"ignore\")"
   ]
  },
  {
   "cell_type": "code",
   "execution_count": 3,
   "metadata": {},
   "outputs": [
    {
     "data": {
      "text/latex": [
       "$\\displaystyle \\frac{d}{d x} \\left(x^{4} + 4 x^{2} + 5 x - 6\\right)$"
      ],
      "text/plain": [
       "Derivative(x**4 + 4*x**2 + 5*x - 6, x)"
      ]
     },
     "execution_count": 3,
     "metadata": {},
     "output_type": "execute_result"
    }
   ],
   "source": [
    "import sympy as sym\n",
    "\n",
    "x = sym.Symbol('x')\n",
    "\n",
    "func = x**4+4*x**2+5*x-6\n",
    "\n",
    "sym.Derivative(func,x).evalf()"
   ]
  },
  {
   "cell_type": "code",
   "execution_count": 7,
   "metadata": {},
   "outputs": [
    {
     "data": {
      "text/latex": [
       "$\\displaystyle 4 x^{3} + 8 x + 5$"
      ],
      "text/plain": [
       "4*x**3 + 8*x + 5"
      ]
     },
     "execution_count": 7,
     "metadata": {},
     "output_type": "execute_result"
    }
   ],
   "source": [
    "sym.Derivative(func, x, evaluate=True)"
   ]
  },
  {
   "cell_type": "code",
   "execution_count": 9,
   "metadata": {},
   "outputs": [
    {
     "data": {
      "text/latex": [
       "$\\displaystyle 4 x^{3} + 8 x + 5$"
      ],
      "text/plain": [
       "4*x**3 + 8*x + 5"
      ]
     },
     "execution_count": 9,
     "metadata": {},
     "output_type": "execute_result"
    }
   ],
   "source": [
    "func.diff(x)"
   ]
  },
  {
   "cell_type": "code",
   "execution_count": 10,
   "metadata": {},
   "outputs": [
    {
     "name": "stdout",
     "output_type": "stream",
     "text": [
      "744\n",
      "545\n"
     ]
    }
   ],
   "source": [
    "espr = sym.lambdify(x, func)\n",
    "\n",
    "expr_der = sym.lambdify(x, func.diff(x))\n",
    "\n",
    "print(espr(5))\n",
    "print(expr_der(5))"
   ]
  },
  {
   "cell_type": "markdown",
   "metadata": {},
   "source": [
    "**Country Information**"
   ]
  },
  {
   "cell_type": "code",
   "execution_count": 15,
   "metadata": {},
   "outputs": [
    {
     "name": "stdout",
     "output_type": "stream",
     "text": [
      "Country Name india\n",
      "Capital:  New Delhi\n",
      "Currencies:  ['INR']\n",
      "Languages:  ['hi', 'en']\n",
      "Population:  1263930000\n",
      "Area:  3287590\n",
      "Borders:  ['AFG', 'BGD', 'BTN', 'MMR', 'CHN', 'NPL', 'PAK', 'LKA']\n",
      "Provinces:  ['Andaman and Nicobar Islands', 'Andhra Pradesh', 'Arunachal Pradesh', 'Assam', 'Bihar', 'Chandigarh', 'Chhattisgarh', 'Dadra and Nagar Haveli', 'Daman and Diu', 'Delhi', 'Goa', 'Gujarat', 'Haryana', 'Himachal Pradesh', 'Jammu and Kashmir', 'Jharkhand', 'Karnataka', 'Kerala', 'Lakshadweep', 'Madhya Pradesh', 'Maharashtra', 'Manipur', 'Meghalaya', 'Mizoram', 'Nagaland', 'Odisha', 'Puducherry', 'Punjab', 'Rajasthan', 'Sikkim', 'Tamil Nadu', 'Telangana', 'Tripura', 'Uttar Pradesh', 'Uttarakhand', 'West Bengal']\n",
      "Region:  Asia\n",
      "Subregion:  Southern Asia\n",
      "TLD:  ['.in']\n",
      "Calling Codes:  ['91']\n",
      "Timezones:  ['UTC+05:30']\n",
      "Demonym Indian\n"
     ]
    }
   ],
   "source": [
    "from countryinfo import CountryInfo\n",
    "country = CountryInfo(input(\"Enter the country name: \"))\n",
    "\n",
    "print('Country Name', country.name())\n",
    "print(\"Capital: \", country.capital())\n",
    "print(\"Currencies: \", country.currencies())\n",
    "print(\"Languages: \", country.languages())\n",
    "print(\"Population: \", country.population())\n",
    "print(\"Area: \", country.area())\n",
    "print(\"Borders: \", country.borders())\n",
    "print(\"Provinces: \", country.provinces())\n",
    "print(\"Region: \", country.region())\n",
    "print(\"Subregion: \", country.subregion())\n",
    "print(\"TLD: \", country.tld())\n",
    "print(\"Calling Codes: \", country.calling_codes())\n",
    "print(\"Timezones: \", country.timezones())\n",
    "print(\"Demonym\", country.demonym())"
   ]
  },
  {
   "cell_type": "markdown",
   "metadata": {},
   "source": [
    "**Calendar**"
   ]
  },
  {
   "cell_type": "code",
   "execution_count": 1,
   "metadata": {},
   "outputs": [
    {
     "name": "stdout",
     "output_type": "stream",
     "text": [
      "                             2025\n",
      "\n",
      "          January                            February\n",
      "Mon Tue Wed Thu Fri Sat Sun        Mon Tue Wed Thu Fri Sat Sun\n",
      "          1   2   3   4   5                              1   2\n",
      "  6   7   8   9  10  11  12          3   4   5   6   7   8   9\n",
      " 13  14  15  16  17  18  19         10  11  12  13  14  15  16\n",
      " 20  21  22  23  24  25  26         17  18  19  20  21  22  23\n",
      " 27  28  29  30  31                 24  25  26  27  28\n",
      "\n",
      "           March                              April\n",
      "Mon Tue Wed Thu Fri Sat Sun        Mon Tue Wed Thu Fri Sat Sun\n",
      "                      1   2              1   2   3   4   5   6\n",
      "  3   4   5   6   7   8   9          7   8   9  10  11  12  13\n",
      " 10  11  12  13  14  15  16         14  15  16  17  18  19  20\n",
      " 17  18  19  20  21  22  23         21  22  23  24  25  26  27\n",
      " 24  25  26  27  28  29  30         28  29  30\n",
      " 31\n",
      "\n",
      "            May                                June\n",
      "Mon Tue Wed Thu Fri Sat Sun        Mon Tue Wed Thu Fri Sat Sun\n",
      "              1   2   3   4                                  1\n",
      "  5   6   7   8   9  10  11          2   3   4   5   6   7   8\n",
      " 12  13  14  15  16  17  18          9  10  11  12  13  14  15\n",
      " 19  20  21  22  23  24  25         16  17  18  19  20  21  22\n",
      " 26  27  28  29  30  31             23  24  25  26  27  28  29\n",
      "                                    30\n",
      "\n",
      "            July                              August\n",
      "Mon Tue Wed Thu Fri Sat Sun        Mon Tue Wed Thu Fri Sat Sun\n",
      "      1   2   3   4   5   6                          1   2   3\n",
      "  7   8   9  10  11  12  13          4   5   6   7   8   9  10\n",
      " 14  15  16  17  18  19  20         11  12  13  14  15  16  17\n",
      " 21  22  23  24  25  26  27         18  19  20  21  22  23  24\n",
      " 28  29  30  31                     25  26  27  28  29  30  31\n",
      "\n",
      "         September                           October\n",
      "Mon Tue Wed Thu Fri Sat Sun        Mon Tue Wed Thu Fri Sat Sun\n",
      "  1   2   3   4   5   6   7                  1   2   3   4   5\n",
      "  8   9  10  11  12  13  14          6   7   8   9  10  11  12\n",
      " 15  16  17  18  19  20  21         13  14  15  16  17  18  19\n",
      " 22  23  24  25  26  27  28         20  21  22  23  24  25  26\n",
      " 29  30                             27  28  29  30  31\n",
      "\n",
      "          November                           December\n",
      "Mon Tue Wed Thu Fri Sat Sun        Mon Tue Wed Thu Fri Sat Sun\n",
      "                      1   2          1   2   3   4   5   6   7\n",
      "  3   4   5   6   7   8   9          8   9  10  11  12  13  14\n",
      " 10  11  12  13  14  15  16         15  16  17  18  19  20  21\n",
      " 17  18  19  20  21  22  23         22  23  24  25  26  27  28\n",
      " 24  25  26  27  28  29  30         29  30  31\n",
      "\n"
     ]
    }
   ],
   "source": [
    "from calendar import *\n",
    "year = int(input(\"Enter the year: \"))\n",
    "print(calendar(year, 3,1,8,2)) # 2-Days, 1-week, 8-month, 3-year"
   ]
  },
  {
   "cell_type": "markdown",
   "metadata": {},
   "source": [
    "**Pdf to Doc**"
   ]
  },
  {
   "cell_type": "code",
   "execution_count": 19,
   "metadata": {},
   "outputs": [
    {
     "name": "stderr",
     "output_type": "stream",
     "text": [
      "[INFO] Start to convert D:\\Python\\Python Libraries\\Resume.pdf\n",
      "[INFO] \u001b[1;36m[1/4] Opening document...\u001b[0m\n",
      "[INFO] \u001b[1;36m[2/4] Analyzing document...\u001b[0m\n",
      "[WARNING] Words count: 0. It might be a scanned pdf, which is not supported yet.\n",
      "[INFO] \u001b[1;36m[3/4] Parsing pages...\u001b[0m\n",
      "[INFO] (1/2) Page 1\n",
      "[INFO] (2/2) Page 2\n",
      "[INFO] \u001b[1;36m[4/4] Creating pages...\u001b[0m\n",
      "[INFO] (1/2) Page 1\n",
      "[INFO] (2/2) Page 2\n",
      "[INFO] Terminated in 3.61s.\n"
     ]
    }
   ],
   "source": [
    "from pdf2docx import Converter\n",
    "\n",
    "pdf_file = r'D:\\Python\\Python Libraries\\Resume.pdf'\n",
    "docx_file = r'D:\\Python\\Python Libraries\\Resume.docx'\n",
    "\n",
    "cv = Converter(pdf_file)\n",
    "cv.convert(docx_file)\n",
    "cv.close()"
   ]
  },
  {
   "cell_type": "markdown",
   "metadata": {},
   "source": [
    "**Periodictable**"
   ]
  },
  {
   "cell_type": "code",
   "execution_count": 33,
   "metadata": {},
   "outputs": [
    {
     "name": "stdout",
     "output_type": "stream",
     "text": [
      "Element: iron\n",
      "Symbol: Fe\n",
      "Atomic Number: 26\n",
      "Atomic Mass: 55.845\n",
      "Density: 7.874\n",
      "Covalent Radius: 1.32\n"
     ]
    }
   ],
   "source": [
    "import periodictable\n",
    "\n",
    "def get_element_info(atomic_number):\n",
    "    try:\n",
    "        element = periodictable.elements[atomic_number]\n",
    "        print(f\"Element: {element.name}\")\n",
    "        print(f\"Symbol: {element.symbol}\")\n",
    "        print(f\"Atomic Number: {element.number}\")\n",
    "        print(f\"Atomic Mass: {element.mass}\")\n",
    "        print(f\"Density: {element.density}\")\n",
    "        print(f\"Covalent Radius: {element.covalent_radius}\")\n",
    "    except IndexError:\n",
    "        print(\"Invalid atomic number\")\n",
    "\n",
    "atomic_number = int(input(\"Enter the atomic number: \"))\n",
    "get_element_info(atomic_number)"
   ]
  },
  {
   "cell_type": "markdown",
   "metadata": {},
   "source": [
    "**READER**"
   ]
  },
  {
   "cell_type": "code",
   "execution_count": null,
   "metadata": {},
   "outputs": [
    {
     "name": "stdout",
     "output_type": "stream",
     "text": [
      "<pyttsx3.engine.Engine object at 0x000001F5A5C07AF0>\n"
     ]
    }
   ],
   "source": [
    "import pyttsx3\n",
    "book=open(r\"C:\\\\Users\\\\syed mubarak pasha\\\\OneDrive\\\\Documents\\\\Python\\\\Assignment\\\\Projects\\\\mubarak.txt\",encoding = 'cp850')\n",
    "book_text=book.readlines()\n",
    "engine=pyttsx3.init()\n",
    "for i in book_text:\n",
    "    engine.say(i)\n",
    "    engine.runAndWait()\n",
    "print(engine)"
   ]
  },
  {
   "cell_type": "markdown",
   "metadata": {},
   "source": [
    "**RECORDING**"
   ]
  },
  {
   "cell_type": "code",
   "execution_count": null,
   "metadata": {},
   "outputs": [],
   "source": [
    "#pip install sounddevice\n",
    "#pip install moviepy"
   ]
  },
  {
   "cell_type": "code",
   "execution_count": null,
   "metadata": {},
   "outputs": [
    {
     "name": "stdout",
     "output_type": "stream",
     "text": [
      "Enter time limit for recording in seconds :  5\n",
      "Enter the name that you want the file to be saved with the extension .wav limi\n"
     ]
    }
   ],
   "source": [
    "import sounddevice\n",
    "from scipy.io.wavfile import write\n",
    "fs=44101\n",
    "second=int(input(\"enter the time duration in second:  \"))\n",
    "print(\"Recording....\\\\n\")\n",
    "record_voice=sounddevice.rec(int(second*fs),samplerate=fs,channels=2)\n",
    "sounddevice.wait()\n",
    "write(\"out.wav\",fs,record_voice)\n",
    "print(\"Finished...nplease Check it ...\")"
   ]
  },
  {
   "cell_type": "markdown",
   "metadata": {},
   "source": [
    "**MOVIE TO AUDIO**"
   ]
  },
  {
   "cell_type": "code",
   "execution_count": null,
   "metadata": {},
   "outputs": [
    {
     "name": "stdout",
     "output_type": "stream",
     "text": [
      "MoviePy - Writing audio in new_audio.mp3\n"
     ]
    },
    {
     "name": "stderr",
     "output_type": "stream",
     "text": [
      "                                                                                                                       "
     ]
    },
    {
     "name": "stdout",
     "output_type": "stream",
     "text": [
      "MoviePy - Done.\n"
     ]
    },
    {
     "name": "stderr",
     "output_type": "stream",
     "text": [
      "\r"
     ]
    }
   ],
   "source": [
    "import moviepy\n",
    "import moviepy.editor\n",
    "video= moviepy.editor.VideoFileClip(r\"C:\\\\Users\\\\syed mubarak pasha\\\\Videos\\\\promo.mp4\")\n",
    "audio = video.audio\n",
    "audio.write_audiofile('new_audio.mp3')"
   ]
  },
  {
   "cell_type": "markdown",
   "metadata": {},
   "source": [
    "**PDF PASSWORD**"
   ]
  },
  {
   "cell_type": "code",
   "execution_count": null,
   "metadata": {},
   "outputs": [
    {
     "name": "stdout",
     "output_type": "stream",
     "text": [
      "Enter Password: ········\n",
      "Enter Password: ········\n"
     ]
    }
   ],
   "source": [
    "from PyPDF2 import PdfFileWriter, PdfFileReader\n",
    "import getpass\n",
    "pdfwriter=PdfFileWriter()\n",
    "pdf=PdfFileReader(book = open(r\"C:\\\\Users\\\\syed mubarak pasha\\\\OneDrive\\\\Documents\\\\Computer\\\\M.S. Word PDF [sscstudy.com].pdf\")\n",
    "   \n",
    "for page_num in range(2):\n",
    "    pdfwriter.addPage(pdf.getPage(page_num))\n",
    "    passw=getpass.getpass(prompt='Enter Password: ')\n",
    "    pdfwriter.encrypt(passw)\n",
    "with open('Power.pdf','wb') as f:\n",
    "    pdfwriter.write(f)"
   ]
  },
  {
   "cell_type": "code",
   "execution_count": null,
   "metadata": {},
   "outputs": [
    {
     "name": "stdout",
     "output_type": "stream",
     "text": [
      "37\n"
     ]
    }
   ],
   "source": [
    "import pyttsx3\n",
    "import PyPDF2\n",
    "book = open(r\"C:\\\\Users\\\\syed mubarak pasha\\\\OneDrive\\\\Documents\\\\Computer\\\\M.S. Word PDF [sscstudy.com].pdf\", mode='rb')\n",
    "pdfReader = PyPDF2.PdfFileReader(book)\n",
    "pages = pdfReader.numPages\n",
    "print(pages)\n",
    "speaker = pyttsx3.init()\n",
    "page = pdfReader.getPage(6)\n",
    "text = page.extractText()\n",
    "speaker.say(text)\n",
    "speaker.runAndWait()"
   ]
  },
  {
   "cell_type": "markdown",
   "metadata": {},
   "source": [
    "### **Get Wifi Password**"
   ]
  },
  {
   "cell_type": "code",
   "execution_count": 2,
   "metadata": {},
   "outputs": [
    {
     "name": "stdout",
     "output_type": "stream",
     "text": [
      "wi-fi Name                    | Password\n",
      "_____________________________________________\n",
      "Redmi Note 10S                | 12345678\n",
      "Redmi 10                      | 12345678\n",
      "OPPO A15s                     | 9986269357\n",
      "CertiJio2G                    | CertiJio121212\n",
      "Redmi Note 7S                 | anku2000\n",
      "oplus_co_appxbr               | sakhi.dhare\n",
      "OPPO A5s                      | 12345678\n",
      "Irfaa_z__                     | 1223334444\n",
      "Redmi Note 11 Pro+ 5G         | 66666666\n",
      "ALHN-BE7B-3                   | 12345678\n",
      "KLEBCA2                       |  \n",
      "Redmi Note 10                 | 55555555\n",
      "KLEBCA1                       |  \n",
      "MERCUSYS                      | Hello1234\n",
      "vivo X80                      | syednawaz\n",
      "vivo V3                       | 12121212\n",
      "vivo 1919 2                   | nawaz123\n",
      "vivo 1919                     |  \n",
      "vivo 1908                     | 12345678\n",
      "vivo 1716                     | 123456789\n",
      "realme 6                      |  \n",
      "netpackhaksolawde             | 123456789\n",
      "girish                        | 9663350116\n",
      "analogica office              | ana#office123\n",
      "_____________                 | password illa\n",
      "Sumer Pasha                   | pcd13964\n",
      "\u001b[44m Encoding Error Occurred\n",
      "Sameer pasha                  |  \n",
      "Sameer Pasha  2               | 9C3E6B14\n",
      "Sameer Pasha                  |  \n",
      "Redmi Note 9 Pro Max          | 12345678\n",
      "Redmi 7                       | a9993d04b4e4\n",
      "Redmi 4A                      | 12345678\n",
      "Redmi 2                       |  \n",
      "Redmi                         | 12345678\n",
      "Nokia 3.1                     | 12345678\n",
      "Mubarak                       | 12345678\n",
      "KLECSLAB                      | KLECSLAB@123\n",
      "JioNet@RL_Jalappa_Inst        |  \n",
      "BwAAAG4P9AIAPwG6Redmi 4A      | FCD13964\n",
      "BrAu-UmVkbWk0QQ               |  \n",
      "Ba6s-UmVkbWk0QQ               |  \n",
      "BRbd-UmVkbWk0QQ               |  \n",
      "BFlF-UmVkbWk0QQ               |  \n",
      "BAAAAIC0054AXwEJmubarak       | 12345678\n",
      "B8Fr-UmVkbWk0QQ               |  \n",
      "B1V9-UmVkbWk0QQ               |  \n",
      "AndroidAP65F4                 | 12345678\n",
      "AndroidAP                     | 22222222\n",
      "ASUS_X003                     | 12345678\n",
      "AQAAAFj2DpQAPwExSameer Pasha  | 9C3E6B14\n",
      "ACT102650214552               | certigkm222\n",
      "CertisuredJio2G               | CertiJio2G\n",
      "Dell                          | V!vek9887\n"
     ]
    }
   ],
   "source": [
    "import subprocess\n",
    "meta_data = subprocess.check_output(['netsh','wlan','show','profiles'])\n",
    "    \n",
    "data= meta_data.decode('utf-8', errors='backslashreplace')\n",
    "    \n",
    "data= data.split('\\n')\n",
    "\n",
    "profiles=[]\n",
    "    \n",
    "for i in data:\n",
    "    if \"All User Profile\" in i:\n",
    "        i = i.split(':')\n",
    "        i = i[1]\n",
    "        i = i[1:-1]\n",
    "        profiles.append(i)\n",
    "       \n",
    "print(\"{:<30}| {:<}\".format(\"wi-fi Name\", \"Password\"))\n",
    "print(\"_____________________________________________\")\n",
    "\n",
    "for i in profiles:\n",
    "    try:\n",
    "        results= subprocess.check_output(['netsh','wlan','show','profile',i,'key=clear'])\n",
    "        results=results.decode('utf-8', errors='backslashreplace')\n",
    "        results=results.split('\\n')\n",
    "        results=[b.split(':')[1][1:-1] for b in results if \"Key Content\" in b]\n",
    "        \n",
    "        try:\n",
    "            print(\"{:<30}| {:<}\".format(i,results[0]))\n",
    "    \n",
    "        except IndexError:\n",
    "            print(\"{:<30}| {:<}\".format(i, \" \"))\n",
    "            \n",
    "    except subprocess.CalledProcessError:\n",
    "        print('\\033[44m',\"Encoding Error Occurred\")"
   ]
  },
  {
   "cell_type": "markdown",
   "metadata": {},
   "source": [
    "**SQL**"
   ]
  },
  {
   "cell_type": "code",
   "execution_count": null,
   "metadata": {},
   "outputs": [],
   "source": [
    "import sqlite3\n",
    " \n",
    "# connecting to the database\n",
    "connection = sqlite3.connect(\"sameer.db\")\n",
    " \n",
    "# cursor\n",
    "crsr = connection.cursor()\n",
    " \n",
    "# print statement will execute if there\n",
    "# are no errors\n",
    "print(\"Connected to the database\")\n",
    "\n",
    "# SQL command to create a table in the database\n",
    "sql_command = \"\"\"CREATE TABLE power (staff_number INTEGER PRIMARY KEY,fname VARCHAR(20),lname VARCHAR(30),gender CHAR(1),joining DATE);\"\"\"\n",
    "crsr.execute(sql_command)\n",
    "\n",
    "# SQL command to insert the data in the table\n",
    "sql_command = \"\"\"INSERT INTO power VALUES (23, \"Rishabh\",\\\n",
    "\"Bansal\", \"M\", \"2014-03-28\");\"\"\"\n",
    "crsr.execute(sql_command)\n",
    " \n",
    "# another SQL command to insert the data in the table\n",
    "sql_command = \"\"\"INSERT INTO power VALUES (1, \"Bill\", \"Gates\",\\\n",
    "\"M\", \"1980-10-28\");\"\"\"\n",
    "crsr.execute(sql_command)\n",
    " \n",
    "# To save the changes in the files. Never skip this.\n",
    "# If we skip this, nothing will be saved in the database.\n",
    "connection.commit()\n",
    " \n",
    "# close the connection\n",
    "connection.close()\n"
   ]
  },
  {
   "cell_type": "markdown",
   "metadata": {},
   "source": [
    "### **Creating QR code**"
   ]
  },
  {
   "cell_type": "code",
   "execution_count": 39,
   "metadata": {},
   "outputs": [
    {
     "data": {
      "image/jpeg": "[encoded data removed]",
      "image/png": "[encoded data removed]",
      "text/plain": [
       "<PIL.PngImagePlugin.PngImageFile image mode=1 size=145x145>"
      ]
     },
     "execution_count": 39,
     "metadata": {},
     "output_type": "execute_result"
    }
   ],
   "source": [
    "import pyqrcode\n",
    "from PIL import Image\n",
    "\n",
    "link = input(\"Enter the link: \")\n",
    "qr_code = pyqrcode.create(link)\n",
    "qr_code.png(\"qr_code.png\", scale=5)\n",
    "Image.open(\"qr_code.png\")"
   ]
  },
  {
   "cell_type": "code",
   "execution_count": null,
   "metadata": {},
   "outputs": [],
   "source": [
    "import qrcode\n",
    "\n",
    "# Text you want to encode in the QR code\n",
    "text_to_encode = \"CertiJio151515\"\n",
    "\n",
    "# Create a QR code instance\n",
    "qr = qrcode.QRCode(\n",
    "    version=1,  # QR code version (adjust as needed)\n",
    "    error_correction=qrcode.constants.ERROR_CORRECT_L,  # Error correction level\n",
    "    box_size=10,  # Size of each QR code block\n",
    "    border=4,  # Border size around the QR code\n",
    ")\n",
    "\n",
    "# Add the text to the QR code\n",
    "qr.add_data(text_to_encode)\n",
    "qr.make(fit=True)\n",
    "\n",
    "# Create an Image object from the QR code instance\n",
    "img = qr.make_image(fill_color=\"black\", back_color=\"white\")\n",
    "\n",
    "# Save the QR code as an image file (e.g., PNG)\n",
    "img.save(\"CertiJio5G.png\")"
   ]
  },
  {
   "cell_type": "markdown",
   "metadata": {},
   "source": [
    "#### **Get Music from Video**"
   ]
  },
  {
   "cell_type": "code",
   "execution_count": null,
   "metadata": {},
   "outputs": [],
   "source": [
    "import moviepy.editor as mp\n",
    "\n",
    "video = mp.VideoFileClip(\"video.mp4\")\n",
    "video.audio.write_audiofile(\"audio.mp3\")"
   ]
  },
  {
   "cell_type": "code",
   "execution_count": 3,
   "metadata": {},
   "outputs": [
    {
     "name": "stdout",
     "output_type": "stream",
     "text": [
      "\u001b[31mHello World\n",
      "\u001b[32mHello World\n",
      "\u001b[34mHello World\n",
      "\u001b[33mHello World\n",
      "\u001b[35mHello World\n",
      "\u001b[36mHello World\n",
      "\u001b[37mHello World\n",
      "\u001b[30mHello World\n",
      "\u001b[39mHello World\n"
     ]
    }
   ],
   "source": [
    "from colorama import Fore\n",
    "\n",
    "print(Fore.RED + \"Hello World\")\n",
    "print(Fore.GREEN + \"Hello World\")\n",
    "print(Fore.BLUE + \"Hello World\")\n",
    "print(Fore.YELLOW + \"Hello World\")\n",
    "print(Fore.MAGENTA + \"Hello World\")\n",
    "print(Fore.CYAN + \"Hello World\")\n",
    "print(Fore.WHITE + \"Hello World\")\n",
    "print(Fore.BLACK + \"Hello World\")\n",
    "print(Fore.RESET + \"Hello World\")"
   ]
  }
 ],
 "metadata": {
  "kernelspec": {
   "display_name": "Python 3",
   "language": "python",
   "name": "python3"
  },
  "language_info": {
   "codemirror_mode": {
    "name": "ipython",
    "version": 3
   },
   "file_extension": ".py",
   "mimetype": "text/x-python",
   "name": "python",
   "nbconvert_exporter": "python",
   "pygments_lexer": "ipython3",
   "version": "3.12.2"
  }
 },
 "nbformat": 4,
 "nbformat_minor": 2
}
