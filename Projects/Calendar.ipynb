{
 "cells": [
  {
   "attachments": {},
   "cell_type": "markdown",
   "id": "3c8793d2-2392-4976-8cf3-bb41832e8048",
   "metadata": {},
   "source": [
    "# calendar "
   ]
  },
  {
   "cell_type": "code",
   "execution_count": 1,
   "id": "16bdd4f0-fe96-4d41-840c-7ecf9f8ee87f",
   "metadata": {},
   "outputs": [],
   "source": [
    "#Importing tkinter module\n",
    "from tkinter import *\n",
    "#importing calendar module\n",
    "import calendar\n",
    " \n",
    "#function to show calendar of the given year\n",
    "def showCalender():\n",
    "    gui = Tk()\n",
    "    gui.config(background='grey')\n",
    "    gui.title(\"Calender for the year\")\n",
    "    gui.geometry(\"550x600\")\n",
    "    year = int(year_field.get())\n",
    "    gui_content= calendar.calendar(year)\n",
    "    calYear = Label(gui, text= gui_content, font= \"Consolas 10 bold\")\n",
    "    calYear.grid(row=5, column=1,padx=20)\n",
    "    gui.mainloop()\n",
    " \n",
    "new = Tk()\n",
    "new.config(background='grey')\n",
    "new.title(\"Calender\")\n",
    "new.geometry(\"250x140\")\n",
    "cal = Label(new, text=\"Calender\",bg='grey',font=(\"times\", 28, \"bold\"))\n",
    "year = Label(new, text=\"Enter year\", bg='dark grey')\n",
    "year_field=Entry(new)\n",
    "button = Button(new, text='Show Calender',fg='Black',bg='Blue',command=showCalender)\n",
    " \n",
    "#putting widgets in position\n",
    "cal.grid(row=1, column=1)\n",
    "year.grid(row=2, column=1)\n",
    "year_field.grid(row=3, column=1)\n",
    "button.grid(row=4, column=1)\n",
    "new.mainloop()"
   ]
  }
 ],
 "metadata": {
  "kernelspec": {
   "display_name": "Python 3 (ipykernel)",
   "language": "python",
   "name": "python3"
  },
  "language_info": {
   "codemirror_mode": {
    "name": "ipython",
    "version": 3
   },
   "file_extension": ".py",
   "mimetype": "text/x-python",
   "name": "python",
   "nbconvert_exporter": "python",
   "pygments_lexer": "ipython3",
   "version": "3.11.3"
  },
  "widgets": {
   "application/vnd.jupyter.widget-state+json": {
    "state": {},
    "version_major": 2,
    "version_minor": 0
   }
  }
 },
 "nbformat": 4,
 "nbformat_minor": 5
}
