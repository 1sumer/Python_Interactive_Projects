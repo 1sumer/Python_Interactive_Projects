{
 "cells": [
  {
   "cell_type": "markdown",
   "id": "b59a7151-21bb-4611-afc9-b68c32d6c2b0",
   "metadata": {},
   "source": [
    "# **Track Phone Number**"
   ]
  },
  {
   "cell_type": "code",
   "execution_count": null,
   "id": "8e28a1f6-7a3a-48d6-b319-c3403b57bfe6",
   "metadata": {},
   "outputs": [],
   "source": [
    "#pip install phonenumbers\n",
    "#pip install opencage\n",
    "#pip install folium"
   ]
  },
  {
   "cell_type": "code",
   "execution_count": null,
   "id": "af825016-e6c3-4a4f-b5ab-284e6266cfc6",
   "metadata": {},
   "outputs": [],
   "source": [
    "# track location with the map using the phone number\n",
    "import phonenumbers\n",
    "from phonenumbers import geocoder\n",
    "from phonenumbers import carrier\n",
    "\n",
    "from phonenumbers import geocoder, carrier, timezone\n",
    "from opencage.geocoder import OpenCageGeocode\n",
    "import folium\n",
    "\n",
    "# taking input the phonenumber along with the country code\n",
    "number = input(\"Enter the PhoneNumber with the country code : \")\n",
    "# Parsing the phonenumber string to convert it into phonenumber format\n",
    "phoneNumber = phonenumbers.parse(number, 'IN')\n",
    "\n",
    "# Storing the API Key in the Key variable\n",
    "Key = \"8579ef03a8c54172b612d4e360f02037\"\n",
    "\n",
    "# Using the geocoder module of phonenumbers to print the Location in console\n",
    "yourLocation = geocoder.description_for_number(phoneNumber,\"en\")\n",
    "print(\"location : \"+yourLocation) \n",
    "\n",
    " \n",
    "# Using the carrier module of phonenumbers to print the service provider name in console\n",
    "yourServiceProvider = carrier.name_for_number(phoneNumber,\"en\")\n",
    "print(\"service provider : \"+yourServiceProvider)\n",
    " \n",
    "# Using opencage to get the latitude and longitude of the location\n",
    "geocoder = OpenCageGeocode(Key)\n",
    "query = str(yourLocation)\n",
    "results = geocoder.geocode(query)\n",
    " \n",
    "# Assigning the latitude and longitude values to the lat and lng variables\n",
    "lat = results[0]['geometry']['lat']\n",
    "lng = results[0]['geometry']['lng']\n",
    " \n",
    "# Getting the map for the given latitude and longitude\n",
    "myMap = folium.Map(loction=[lat,lng],zoom_start = 9)\n",
    " \n",
    "# Adding a Marker on the map to show the location name\n",
    "folium.Marker([lat,lng],popup=yourLocation).add_to(myMap)\n",
    " \n",
    "# save map to html file to open it and see the actual location in map format\n",
    "myMap.save(\"Location.html\")"
   ]
  },
  {
   "cell_type": "code",
   "execution_count": null,
   "id": "385ced26-e3a5-44f0-915b-56256e250431",
   "metadata": {},
   "outputs": [],
   "source": [
    "#myMap"
   ]
  },
  {
   "cell_type": "code",
   "execution_count": null,
   "id": "6b9140a7-dbd0-44f7-a184-fb8e9d1fa056",
   "metadata": {},
   "outputs": [],
   "source": []
  },
  {
   "cell_type": "code",
   "execution_count": null,
   "id": "77e75de0-97a5-4110-89ed-a9d3c6d658cd",
   "metadata": {},
   "outputs": [],
   "source": [
    "# track location and time zone using the phone number\n",
    "import phonenumbers\n",
    "from phonenumbers import timezone\n",
    "from phonenumbers import geocoder\n",
    "from phonenumbers import carrier\n",
    " \n",
    "number = input(\"Enter the phone number with country code : \")\n",
    " \n",
    "# Parsing String to the Phone number\n",
    "phoneNumber = phonenumbers.parse(number)\n",
    " \n",
    "# printing the timezone using the timezone module\n",
    "timeZone = timezone.time_zones_for_number(phoneNumber)\n",
    "print(\"timezone : \"+str(timeZone))\n",
    " \n",
    "# printing the geolocation of the given number using the geocoder module\n",
    "geolocation = geocoder.description_for_number(phoneNumber,\"en\")\n",
    "print(\"location : \"+geolocation)\n",
    " \n",
    "# printing the service provider name using the carrier module\n",
    "service = carrier.name_for_number(phoneNumber,\"en\")\n",
    "print(\"service provider : \"+service)"
   ]
  },
  {
   "cell_type": "code",
   "execution_count": null,
   "id": "14ab908e-f52c-4123-b7ea-50a3c0165dc8",
   "metadata": {},
   "outputs": [],
   "source": []
  }
 ],
 "metadata": {
  "kernelspec": {
   "display_name": "Python 3 (ipykernel)",
   "language": "python",
   "name": "python3"
  },
  "language_info": {
   "codemirror_mode": {
    "name": "ipython",
    "version": 3
   },
   "file_extension": ".py",
   "mimetype": "text/x-python",
   "name": "python",
   "nbconvert_exporter": "python",
   "pygments_lexer": "ipython3",
   "version": "3.11.3"
  },
  "widgets": {
   "application/vnd.jupyter.widget-state+json": {
    "state": {},
    "version_major": 2,
    "version_minor": 0
   }
  }
 },
 "nbformat": 4,
 "nbformat_minor": 5
}
