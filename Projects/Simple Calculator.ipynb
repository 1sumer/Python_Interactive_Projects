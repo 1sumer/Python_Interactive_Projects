{
 "cells": [
  {
   "cell_type": "markdown",
   "id": "2395d3ca-a563-4cbf-81f4-2f75fe866104",
   "metadata": {},
   "source": [
    "# **Simple Calculator**"
   ]
  },
  {
   "cell_type": "code",
   "execution_count": 1,
   "id": "200f5263-35d1-4310-b4b9-580172793e9f",
   "metadata": {},
   "outputs": [
    {
     "name": "stdout",
     "output_type": "stream",
     "text": [
      "please select the operation.\n",
      "a. Add\n",
      "b. Subtract\n",
      "c. Multiply\n",
      "d. Divide\n",
      "e. Percent\n"
     ]
    },
    {
     "name": "stdin",
     "output_type": "stream",
     "text": [
      "please enter choice(a, b, c, d, e): a\n",
      "please enter the first number:  1\n",
      "please enter the two number:  2\n"
     ]
    },
    {
     "name": "stdout",
     "output_type": "stream",
     "text": [
      "\u001b[43m 1 + 2 = 3\n"
     ]
    }
   ],
   "source": [
    "def add(P,Q):\n",
    "    return P+Q\n",
    "def subtract(P,Q):\n",
    "    return P-Q\n",
    "def multiply(P,Q):\n",
    "    return P*Q\n",
    "def divide(P,Q):\n",
    "    return P/Q\n",
    "def percent(P,Q):\n",
    "    return P/Q*100\n",
    " \n",
    "print('please select the operation.')\n",
    "print('a. Add')\n",
    "print('b. Subtract')\n",
    "print('c. Multiply')\n",
    "print('d. Divide')\n",
    "print('e. Percent')\n",
    "    \n",
    "choice=input('please enter choice(a, b, c, d, e):')\n",
    "num_1=int(input('please enter the first number: '))\n",
    "num_2=int(input('please enter the two number: '))\n",
    "    \n",
    "if choice == 'a':\n",
    "    print('\\033[43m',num_1,'+',num_2,'=',add(num_1,num_2))\n",
    "\n",
    "elif choice == 'b':\n",
    "    print('\\033[42m',num_1,'-',num_2,'=',subtract(num_1,num_2))\n",
    "    \n",
    "elif choice == 'c':\n",
    "    print('\\033[47m',num_1,'*',num_2,'=',multiply(num_1,num_2))\n",
    "        \n",
    "elif choice == 'd':\n",
    "    print('\\033[45m',num_1,'/',num_2,'=',divide(num_1,num_2))\n",
    "\n",
    "elif choice == 'e':\n",
    "    print('\\033[44m',num_1,'%',num_2,'=',percent(num_1,num_2))\n",
    "else:\n",
    "    print('this is an invalid input')"
   ]
  },
  {
   "cell_type": "code",
   "execution_count": null,
   "id": "4c1dd9a6-ed86-46ed-94a7-15853544d35d",
   "metadata": {},
   "outputs": [],
   "source": []
  }
 ],
 "metadata": {
  "kernelspec": {
   "display_name": "Python 3 (ipykernel)",
   "language": "python",
   "name": "python3"
  },
  "language_info": {
   "codemirror_mode": {
    "name": "ipython",
    "version": 3
   },
   "file_extension": ".py",
   "mimetype": "text/x-python",
   "name": "python",
   "nbconvert_exporter": "python",
   "pygments_lexer": "ipython3",
   "version": "3.9.12"
  },
  "widgets": {
   "application/vnd.jupyter.widget-state+json": {
    "state": {},
    "version_major": 2,
    "version_minor": 0
   }
  }
 },
 "nbformat": 4,
 "nbformat_minor": 5
}
